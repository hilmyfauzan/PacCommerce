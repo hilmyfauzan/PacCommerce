{
 "cells": [
  {
   "cell_type": "markdown",
   "metadata": {},
   "source": [
    "# **PacCommerce - Customer Membership**\n",
    "---"
   ]
  },
  {
   "cell_type": "markdown",
   "metadata": {},
   "source": [
    "## **Case Study**"
   ]
  },
  {
   "cell_type": "markdown",
   "metadata": {},
   "source": [
    "To check whether the program is working properly, we need to test it on a few test cases below."
   ]
  },
  {
   "cell_type": "markdown",
   "metadata": {},
   "source": [
    "First, we need to import the Membership class from the main.py file"
   ]
  },
  {
   "cell_type": "code",
   "execution_count": 1,
   "metadata": {},
   "outputs": [],
   "source": [
    "from main import Membership"
   ]
  },
  {
   "cell_type": "markdown",
   "metadata": {},
   "source": [
    "### **Case 1**"
   ]
  },
  {
   "cell_type": "markdown",
   "metadata": {},
   "source": [
    "- Cahya wants to check all membership tier and the benefits available in PacCommerce.\n",
    "\n",
    "- **input** : -\n",
    "\n",
    "- **output** : List of available membership tiers and their corresponding benefits in PacCommerce."
   ]
  },
  {
   "cell_type": "code",
   "execution_count": 4,
   "metadata": {},
   "outputs": [],
   "source": [
    "# Create a new user named Cahya\n",
    "user1 = Membership('Cahya') "
   ]
  },
  {
   "cell_type": "code",
   "execution_count": 3,
   "metadata": {},
   "outputs": [
    {
     "name": "stdout",
     "output_type": "stream",
     "text": [
      "| Membership   | Discount   | Another Benefit                                             |\n",
      "|--------------|------------|-------------------------------------------------------------|\n",
      "| Platinum     | 15%        | Benefit Silver + Gold + Voucher Liburan + Cashback max. 30% |\n",
      "| Gold         | 10%        | Benefit Silver + Voucher Ojek Online                        |\n",
      "| Silver       | 8%         | Voucher Makanan                                             |\n"
     ]
    }
   ],
   "source": [
    "# Checking all the membership and its benefit available\n",
    "# using .show_benefit() funciton\n",
    "user1.show_benefit()"
   ]
  },
  {
   "cell_type": "markdown",
   "metadata": {},
   "source": [
    "### **Case 2**"
   ]
  },
  {
   "cell_type": "markdown",
   "metadata": {},
   "source": [
    "- Shandy wants to know the requirements for monthly expenses and monthly income needed to obtain a predetermined membership.\n",
    "\n",
    "- **input** : -\n",
    "\n",
    "- **output** : Membership tier, monthly expense and income requirement for each tier."
   ]
  },
  {
   "cell_type": "code",
   "execution_count": 5,
   "metadata": {},
   "outputs": [],
   "source": [
    "# Create a new user named Shandy\n",
    "user2 = Membership('Shandy')"
   ]
  },
  {
   "cell_type": "code",
   "execution_count": 6,
   "metadata": {},
   "outputs": [
    {
     "name": "stdout",
     "output_type": "stream",
     "text": [
      "|   Platinum |       Gold |    Silver |\n",
      "|------------|------------|-----------|\n",
      "| 15,000,000 | 10,000,000 | 7,000,000 |\n",
      "|  8,000,000 |  6,000,000 | 5,000,000 |\n"
     ]
    }
   ],
   "source": [
    "# Showing all membership tier and its monthly income and expense requirement\n",
    "# using .show_requirements()\n",
    "user2.show_requirements()"
   ]
  },
  {
   "cell_type": "markdown",
   "metadata": {},
   "source": [
    "### **Case 3**"
   ]
  },
  {
   "cell_type": "markdown",
   "metadata": {},
   "source": [
    "- User Cahya wants to know which membership category they belong to based on his monthly expenses and monthly income. \n",
    "    - monthly_income = IDR 12.000.000,00 \n",
    "    - monthly_expense = IDR 9.000.000,00\n",
    "\n",
    "- **input** : \n",
    "    - monthly_income\n",
    "    - monthly_expense\n",
    "\n",
    "- **output** :\n",
    "    - membership_tier"
   ]
  },
  {
   "cell_type": "code",
   "execution_count": 7,
   "metadata": {},
   "outputs": [],
   "source": [
    "# first, let's set some value for Cahya monthly income and expense\n",
    "user1 =  Membership('Cahya', monthly_income=12_000_000,\n",
    "                    monthly_expense=9_000_000)"
   ]
  },
  {
   "cell_type": "code",
   "execution_count": 8,
   "metadata": {},
   "outputs": [
    {
     "name": "stdout",
     "output_type": "stream",
     "text": [
      "Hi Cahya\n",
      "Based on your income and expense, you're eligible for Platinum Membership\n"
     ]
    }
   ],
   "source": [
    "# Now let's predict which tier Cahya belong to using .predict_membership()\n",
    "user1.predict_membership()"
   ]
  },
  {
   "cell_type": "markdown",
   "metadata": {},
   "source": [
    "### **Case 4**"
   ]
  },
  {
   "cell_type": "markdown",
   "metadata": {},
   "source": [
    "- Now Cahya want to buy a lot of things in PacCommerce.\n",
    "    \n",
    "- List of Cahya PacCommerce cart :\n",
    "    - 1 kg of Beef for IDR 150.000,00\n",
    "    - 10 kg of Rice for IDR 200.000,00\n",
    "    - 2 kg of Red Chili for IDR 400.000,00"
   ]
  },
  {
   "cell_type": "code",
   "execution_count": 9,
   "metadata": {},
   "outputs": [],
   "source": [
    "# let's store Cahya shopping cart in a list\n",
    "cahya_shopping_cart = [150_000, 200_000, 400_000]"
   ]
  },
  {
   "cell_type": "code",
   "execution_count": 10,
   "metadata": {},
   "outputs": [
    {
     "name": "stdout",
     "output_type": "stream",
     "text": [
      "Rp. 637.500,00\n"
     ]
    }
   ],
   "source": [
    "# Now let's check the final price using calculate_price()\n",
    "user1.calculate_price(cahya_shopping_cart)"
   ]
  },
  {
   "cell_type": "code",
   "execution_count": 11,
   "metadata": {},
   "outputs": [
    {
     "data": {
      "text/plain": [
       "750000"
      ]
     },
     "execution_count": 11,
     "metadata": {},
     "output_type": "execute_result"
    }
   ],
   "source": [
    "# let's compare if Cahya is paying the original price\n",
    "sum(cahya_shopping_cart)"
   ]
  },
  {
   "cell_type": "markdown",
   "metadata": {},
   "source": [
    "As you can see, Cahya is getting 15% Discount because he have Platinum Tier Memberhip."
   ]
  }
 ],
 "metadata": {
  "kernelspec": {
   "display_name": "Python 3",
   "language": "python",
   "name": "python3"
  },
  "language_info": {
   "codemirror_mode": {
    "name": "ipython",
    "version": 3
   },
   "file_extension": ".py",
   "mimetype": "text/x-python",
   "name": "python",
   "nbconvert_exporter": "python",
   "pygments_lexer": "ipython3",
   "version": "3.11.5"
  }
 },
 "nbformat": 4,
 "nbformat_minor": 2
}
